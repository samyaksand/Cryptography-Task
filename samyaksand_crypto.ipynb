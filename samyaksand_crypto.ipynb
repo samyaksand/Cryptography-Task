{
  "nbformat": 4,
  "nbformat_minor": 0,
  "metadata": {
    "colab": {
      "name": "Untitled17.ipynb",
      "provenance": []
    },
    "kernelspec": {
      "name": "python3",
      "display_name": "Python 3"
    },
    "language_info": {
      "name": "python"
    }
  },
  "cells": [
    {
      "cell_type": "markdown",
      "metadata": {
        "id": "bpUAd0OMAClC"
      },
      "source": [
        "# **Cryptography Code for Web Club Recruitments**"
      ]
    },
    {
      "cell_type": "code",
      "metadata": {
        "colab": {
          "base_uri": "https://localhost:8080/"
        },
        "id": "EQCBfNmnAJWI",
        "outputId": "fbd989b7-b48f-4934-b413-c30ee8a54960"
      },
      "source": [
        "!pip install qrcode[pil]\n",
        "!pip install pypng\n",
        "!pip install pillow\n",
        "!apt install libzbar0\n",
        "!pip install pyzbar\n",
        "!pip install pyqrcode\n",
        "!pip install pycipher"
      ],
      "execution_count": 1,
      "outputs": [
        {
          "output_type": "stream",
          "name": "stdout",
          "text": [
            "Collecting qrcode[pil]\n",
            "  Downloading qrcode-7.3.1.tar.gz (43 kB)\n",
            "\u001b[?25l\r\u001b[K     |███████▌                        | 10 kB 13.9 MB/s eta 0:00:01\r\u001b[K     |███████████████                 | 20 kB 15.6 MB/s eta 0:00:01\r\u001b[K     |██████████████████████▋         | 30 kB 11.1 MB/s eta 0:00:01\r\u001b[K     |██████████████████████████████▏ | 40 kB 9.2 MB/s eta 0:00:01\r\u001b[K     |████████████████████████████████| 43 kB 758 kB/s \n",
            "\u001b[?25hRequirement already satisfied: pillow in /usr/local/lib/python3.7/dist-packages (from qrcode[pil]) (7.1.2)\n",
            "Building wheels for collected packages: qrcode\n",
            "  Building wheel for qrcode (setup.py) ... \u001b[?25l\u001b[?25hdone\n",
            "  Created wheel for qrcode: filename=qrcode-7.3.1-py3-none-any.whl size=40401 sha256=1268b2e0e6bd11bd451f933d4bea3e550fcb45a2b162c617e363af5bd9bdb305\n",
            "  Stored in directory: /root/.cache/pip/wheels/93/d7/39/a4111be2cfb8e679938aa671a37888b6afb1f9e7d748e94492\n",
            "Successfully built qrcode\n",
            "Installing collected packages: qrcode\n",
            "Successfully installed qrcode-7.3.1\n",
            "Collecting pypng\n",
            "  Downloading pypng-0.0.21-py3-none-any.whl (48 kB)\n",
            "\u001b[K     |████████████████████████████████| 48 kB 2.5 MB/s \n",
            "\u001b[?25hInstalling collected packages: pypng\n",
            "Successfully installed pypng-0.0.21\n",
            "Requirement already satisfied: pillow in /usr/local/lib/python3.7/dist-packages (7.1.2)\n",
            "Reading package lists... Done\n",
            "Building dependency tree       \n",
            "Reading state information... Done\n",
            "The following additional packages will be installed:\n",
            "  libv4l-0 libv4lconvert0\n",
            "The following NEW packages will be installed:\n",
            "  libv4l-0 libv4lconvert0 libzbar0\n",
            "0 upgraded, 3 newly installed, 0 to remove and 37 not upgraded.\n",
            "Need to get 193 kB of archives.\n",
            "After this operation, 760 kB of additional disk space will be used.\n",
            "Get:1 http://archive.ubuntu.com/ubuntu bionic/main amd64 libv4lconvert0 amd64 1.14.2-1 [76.1 kB]\n",
            "Get:2 http://archive.ubuntu.com/ubuntu bionic/main amd64 libv4l-0 amd64 1.14.2-1 [41.7 kB]\n",
            "Get:3 http://archive.ubuntu.com/ubuntu bionic/universe amd64 libzbar0 amd64 0.10+doc-10.1build2 [75.7 kB]\n",
            "Fetched 193 kB in 1s (261 kB/s)\n",
            "Selecting previously unselected package libv4lconvert0:amd64.\n",
            "(Reading database ... 155222 files and directories currently installed.)\n",
            "Preparing to unpack .../libv4lconvert0_1.14.2-1_amd64.deb ...\n",
            "Unpacking libv4lconvert0:amd64 (1.14.2-1) ...\n",
            "Selecting previously unselected package libv4l-0:amd64.\n",
            "Preparing to unpack .../libv4l-0_1.14.2-1_amd64.deb ...\n",
            "Unpacking libv4l-0:amd64 (1.14.2-1) ...\n",
            "Selecting previously unselected package libzbar0:amd64.\n",
            "Preparing to unpack .../libzbar0_0.10+doc-10.1build2_amd64.deb ...\n",
            "Unpacking libzbar0:amd64 (0.10+doc-10.1build2) ...\n",
            "Setting up libv4lconvert0:amd64 (1.14.2-1) ...\n",
            "Setting up libv4l-0:amd64 (1.14.2-1) ...\n",
            "Setting up libzbar0:amd64 (0.10+doc-10.1build2) ...\n",
            "Processing triggers for libc-bin (2.27-3ubuntu1.3) ...\n",
            "/sbin/ldconfig.real: /usr/local/lib/python3.7/dist-packages/ideep4py/lib/libmkldnn.so.0 is not a symbolic link\n",
            "\n",
            "Collecting pyzbar\n",
            "  Downloading pyzbar-0.1.8-py2.py3-none-any.whl (28 kB)\n",
            "Installing collected packages: pyzbar\n",
            "Successfully installed pyzbar-0.1.8\n",
            "Collecting pyqrcode\n",
            "  Downloading PyQRCode-1.2.1.zip (41 kB)\n",
            "\u001b[K     |████████████████████████████████| 41 kB 448 kB/s \n",
            "\u001b[?25hBuilding wheels for collected packages: pyqrcode\n",
            "  Building wheel for pyqrcode (setup.py) ... \u001b[?25l\u001b[?25hdone\n",
            "  Created wheel for pyqrcode: filename=PyQRCode-1.2.1-py3-none-any.whl size=36245 sha256=4705881321494f664c752d36c462347c35c9b5a2a4bf82e1dc5e20187cf01f61\n",
            "  Stored in directory: /root/.cache/pip/wheels/aa/14/ad/f09824edf35fdc5fd8acc01b60ff57f858f212a2d5c41dddd2\n",
            "Successfully built pyqrcode\n",
            "Installing collected packages: pyqrcode\n",
            "Successfully installed pyqrcode-1.2.1\n",
            "Collecting pycipher\n",
            "  Downloading pycipher-0.5.2.zip (45 kB)\n",
            "\u001b[K     |████████████████████████████████| 45 kB 1.7 MB/s \n",
            "\u001b[?25hBuilding wheels for collected packages: pycipher\n",
            "  Building wheel for pycipher (setup.py) ... \u001b[?25l\u001b[?25hdone\n",
            "  Created wheel for pycipher: filename=pycipher-0.5.2-py3-none-any.whl size=30456 sha256=65dde559cb854f8fedbca05b825541972b244f738f7c49c1e0c049973be22e90\n",
            "  Stored in directory: /root/.cache/pip/wheels/95/4a/2a/ea10423cf27ef52a0bd1c91d351a936131b3c686195e54a310\n",
            "Successfully built pycipher\n",
            "Installing collected packages: pycipher\n",
            "Successfully installed pycipher-0.5.2\n"
          ]
        }
      ]
    },
    {
      "cell_type": "markdown",
      "metadata": {
        "id": "87e4jINqBAsN"
      },
      "source": [
        "## **1. Decoding QR CODE**"
      ]
    },
    {
      "cell_type": "code",
      "metadata": {
        "colab": {
          "base_uri": "https://localhost:8080/"
        },
        "id": "R_vaTQ_FAcYA",
        "outputId": "358432aa-0c2c-413d-ec31-88b2aa10c461"
      },
      "source": [
        "import pyqrcode\n",
        "from pyzbar.pyzbar import decode\n",
        "from PIL import Image\n",
        "\n",
        "decocdeQR = decode(Image.open('Alan-vaccination-cert.jpg'))\n",
        "print(decocdeQR[0].data.decode('ascii'))"
      ],
      "execution_count": 2,
      "outputs": [
        {
          "output_type": "stream",
          "name": "stdout",
          "text": [
            "R3JlYXQgam9iLiBKdWxpdXMgQ2Flc2VyIHdhcyBib3JuIGluIHRoZSAxMDAgQkM6ClBEQSBKQVRQIFlFTERBTiBHQVVPTVFXTkEgRU8gUERBIFdITERXWEFQTyBTRVBES1FQIEYKT1BYV09EUFNLUUxPTkNYUU5VSkVPTFhQV0FFSE1PVVpPRVFYWFZLVUpPV0JMTVdYUFFVSU9FTFBNWUtZRUhNT0dPS1lRWEFYS1lLRExZUVpZTFlIQVdXQkxNV1hRWUxXVldPWQ==\n",
            "\n"
          ]
        }
      ]
    },
    {
      "cell_type": "markdown",
      "metadata": {
        "id": "FO2xMWRRCZ0P"
      },
      "source": [
        "### Output Text\n",
        "\n",
        "R3JlYXQgam9iLiBKdWxpdXMgQ2Flc2VyIHdhcyBib3JuIGluIHRoZSAxMDAgQkM6ClBEQSBKQVRQIFlFTERBTiBHQVVPTVFXTkEgRU8gUERBIFdITERXWEFQTyBTRVBES1FQIEYKT1BYV09EUFNLUUxPTkNYUU5VSkVPTFhQV0FFSE1PVVpPRVFYWFZLVUpPV0JMTVdYUFFVSU9FTFBNWUtZRUhNT0dPS1lRWEFYS1lLRExZUVpZTFlIQVdXQkxNV1hRWUxXVldPWQ=="
      ]
    },
    {
      "cell_type": "markdown",
      "metadata": {
        "id": "XzD3rt0FBcgJ"
      },
      "source": [
        "## **2. Base 64 Decryption**"
      ]
    },
    {
      "cell_type": "code",
      "metadata": {
        "colab": {
          "base_uri": "https://localhost:8080/"
        },
        "id": "hFfbC3_xBXCo",
        "outputId": "24f2e83b-ce9a-4e0b-8f3e-8412ce05502c"
      },
      "source": [
        "import base64\n",
        "encoded = \"R3JlYXQgam9iLiBKdWxpdXMgQ2Flc2VyIHdhcyBib3JuIGluIHRoZSAxMDAgQkM6ClBEQSBKQVRQIFlFTERBTiBHQVVPTVFXTkEgRU8gUERBIFdITERXWEFQTyBTRVBES1FQIEYKT1BYV09EUFNLUUxPTkNYUU5VSkVPTFhQV0FFSE1PVVpPRVFYWFZLVUpPV0JMTVdYUFFVSU9FTFBNWUtZRUhNT0dPS1lRWEFYS1lLRExZUVpZTFlIQVdXQkxNV1hRWUxXVldPWQ==\"\n",
        "data = base64.b64decode(encoded)\n",
        "print(data)"
      ],
      "execution_count": 3,
      "outputs": [
        {
          "output_type": "stream",
          "name": "stdout",
          "text": [
            "b'Great job. Julius Caeser was born in the 100 BC:\\nPDA JATP YELDAN GAUOMQWNA EO PDA WHLDWXAPO SEPDKQP F\\nOPXWODPSKQLONCXQNUJEOLXPWAEHMOUZOEQXXVKUJOWBLMWXPQUIOELPMYKYEHMOGOKYQXAXKYKDLYQZYLYHAWWBLMWXQYLWVWOY'\n"
          ]
        }
      ]
    },
    {
      "cell_type": "markdown",
      "metadata": {
        "id": "11lkrI_gB2S-"
      },
      "source": [
        "### **Output Text**\n",
        "\n",
        "b'Great job. Julius Caeser was born in the 100 BC:\n",
        "\n",
        "PDA JATP YELDAN GAUOMQWNA EO PDA WHLDWXAPO SEPDKQP F\n",
        "\n",
        "OPXWODPSKQLONCXQNUJEOLXPWAEHMOUZOEQXXVKUJOWBLMWXPQUIOELPMYKYEHMOGOKYQXAXKYKDLYQZYLYHAWWBLMWXQYLWVWOY"
      ]
    },
    {
      "cell_type": "markdown",
      "metadata": {
        "id": "F-Xbw86pCuDh"
      },
      "source": [
        "## **3. Caesar Cipher Decryption - Brute Force Way (As Key is Not Given)**\n"
      ]
    },
    {
      "cell_type": "code",
      "metadata": {
        "colab": {
          "base_uri": "https://localhost:8080/"
        },
        "id": "OWxnE8ECC5im",
        "outputId": "3fa03b0d-4412-4f40-ae03-1e5b46f7ad9e"
      },
      "source": [
        "message = 'PDA JATP YELDAN GAUOMQWNA EO PDA WHLDWXAPO SEPDKQP F' \n",
        "LETTERS = 'ABCDEFGHIJKLMNOPQRSTUVWXYZ'  \n",
        "\n",
        "for key in range(len(LETTERS)):  \n",
        "        translated = ''  \n",
        "   \n",
        "        for symbol in message: \n",
        "                if symbol in LETTERS:  \n",
        "                        n = LETTERS.find(symbol)  \n",
        "                        n = n - key  \n",
        "                        if n < 0:  \n",
        "                                n = n + len(LETTERS)  \n",
        "                        translated = translated + LETTERS[n]  \n",
        "         \n",
        "        \n",
        "                else:  \n",
        "                        translated = translated + symbol  \n",
        "      \n",
        "        print('Hacking k #%s: %s' % (key, translated))"
      ],
      "execution_count": 4,
      "outputs": [
        {
          "output_type": "stream",
          "name": "stdout",
          "text": [
            "Hacking k #0: PDA JATP YELDAN GAUOMQWNA EO PDA WHLDWXAPO SEPDKQP F\n",
            "Hacking k #1: OCZ IZSO XDKCZM FZTNLPVMZ DN OCZ VGKCVWZON RDOCJPO E\n",
            "Hacking k #2: NBY HYRN WCJBYL EYSMKOULY CM NBY UFJBUVYNM QCNBION D\n",
            "Hacking k #3: MAX GXQM VBIAXK DXRLJNTKX BL MAX TEIATUXML PBMAHNM C\n",
            "Hacking k #4: LZW FWPL UAHZWJ CWQKIMSJW AK LZW SDHZSTWLK OALZGML B\n",
            "Hacking k #5: KYV EVOK TZGYVI BVPJHLRIV ZJ KYV RCGYRSVKJ NZKYFLK A\n",
            "Hacking k #6: JXU DUNJ SYFXUH AUOIGKQHU YI JXU QBFXQRUJI MYJXEKJ Z\n",
            "Hacking k #7: IWT CTMI RXEWTG ZTNHFJPGT XH IWT PAEWPQTIH LXIWDJI Y\n",
            "Hacking k #8: HVS BSLH QWDVSF YSMGEIOFS WG HVS OZDVOPSHG KWHVCIH X\n",
            "Hacking k #9: GUR ARKG PVCURE XRLFDHNER VF GUR NYCUNORGF JVGUBHG W\n",
            "Hacking k #10: FTQ ZQJF OUBTQD WQKECGMDQ UE FTQ MXBTMNQFE IUFTAGF V\n",
            "Hacking k #11: ESP YPIE NTASPC VPJDBFLCP TD ESP LWASLMPED HTESZFE U\n",
            "Hacking k #12: DRO XOHD MSZROB UOICAEKBO SC DRO KVZRKLODC GSDRYED T\n",
            "Hacking k #13: CQN WNGC LRYQNA TNHBZDJAN RB CQN JUYQJKNCB FRCQXDC S\n",
            "Hacking k #14: BPM VMFB KQXPMZ SMGAYCIZM QA BPM ITXPIJMBA EQBPWCB R\n",
            "Hacking k #15: AOL ULEA JPWOLY RLFZXBHYL PZ AOL HSWOHILAZ DPAOVBA Q\n",
            "Hacking k #16: ZNK TKDZ IOVNKX QKEYWAGXK OY ZNK GRVNGHKZY COZNUAZ P\n",
            "Hacking k #17: YMJ SJCY HNUMJW PJDXVZFWJ NX YMJ FQUMFGJYX BNYMTZY O\n",
            "Hacking k #18: XLI RIBX GMTLIV OICWUYEVI MW XLI EPTLEFIXW AMXLSYX N\n",
            "Hacking k #19: WKH QHAW FLSKHU NHBVTXDUH LV WKH DOSKDEHWV ZLWKRXW M\n",
            "Hacking k #20: VJG PGZV EKRJGT MGAUSWCTG KU VJG CNRJCDGVU YKVJQWV L\n",
            "Hacking k #21: UIF OFYU DJQIFS LFZTRVBSF JT UIF BMQIBCFUT XJUIPVU K\n",
            "Hacking k #22: THE NEXT CIPHER KEYSQUARE IS THE ALPHABETS WITHOUT J\n",
            "Hacking k #23: SGD MDWS BHOGDQ JDXRPTZQD HR SGD ZKOGZADSR VHSGNTS I\n",
            "Hacking k #24: RFC LCVR AGNFCP ICWQOSYPC GQ RFC YJNFYZCRQ UGRFMSR H\n",
            "Hacking k #25: QEB KBUQ ZFMEBO HBVPNRXOB FP QEB XIMEXYBQP TFQELRQ G\n"
          ]
        }
      ]
    },
    {
      "cell_type": "markdown",
      "metadata": {
        "id": "aOH-qxuuDXZR"
      },
      "source": [
        "### **Output (using Shift key of value 22)**\n",
        "\n",
        "THE NEXT CIPHER KEYSQUARE IS THE ALPHABETS WITHOUT J"
      ]
    },
    {
      "cell_type": "markdown",
      "metadata": {
        "id": "ghkhaycFENT2"
      },
      "source": [
        "## **4. Caesar Cipher Decryption**"
      ]
    },
    {
      "cell_type": "code",
      "metadata": {
        "colab": {
          "base_uri": "https://localhost:8080/"
        },
        "id": "winw12_YC8uL",
        "outputId": "19efdfd5-7ee7-47c5-dbfb-4f917423f7ac"
      },
      "source": [
        "\n",
        "message = 'OPXWODPSKQLONCXQNUJEOLXPWAEHMOUZOEQXXVKUJOWBLMWXPQUIOELPMYKYEHMOGOKYQXAXKYKDLYQZYLYHAWWBLMWXQYLWVWOY' \n",
        "LETTERS = 'ABCDEFGHIJKLMNOPQRSTUVWXYZ'  \n",
        "\n",
        "for key in range(len(LETTERS)):  \n",
        "        translated = ''  \n",
        "   \n",
        "        for symbol in message: \n",
        "                if symbol in LETTERS:  \n",
        "                        n = LETTERS.find(symbol)  \n",
        "                        n = n - key  \n",
        "                        if n < 0:  \n",
        "                                n = n + len(LETTERS)  \n",
        "                        translated = translated + LETTERS[n]  \n",
        "         \n",
        "        \n",
        "                else:  \n",
        "                        translated = translated + symbol  \n",
        "      \n",
        "        print('Hacking k #%s: %s' % (key, translated))\n",
        "        "
      ],
      "execution_count": 5,
      "outputs": [
        {
          "output_type": "stream",
          "name": "stdout",
          "text": [
            "Hacking k #0: OPXWODPSKQLONCXQNUJEOLXPWAEHMOUZOEQXXVKUJOWBLMWXPQUIOELPMYKYEHMOGOKYQXAXKYKDLYQZYLYHAWWBLMWXQYLWVWOY\n",
            "Hacking k #1: NOWVNCORJPKNMBWPMTIDNKWOVZDGLNTYNDPWWUJTINVAKLVWOPTHNDKOLXJXDGLNFNJXPWZWJXJCKXPYXKXGZVVAKLVWPXKVUVNX\n",
            "Hacking k #2: MNVUMBNQIOJMLAVOLSHCMJVNUYCFKMSXMCOVVTISHMUZJKUVNOSGMCJNKWIWCFKMEMIWOVYVIWIBJWOXWJWFYUUZJKUVOWJUTUMW\n",
            "Hacking k #3: LMUTLAMPHNILKZUNKRGBLIUMTXBEJLRWLBNUUSHRGLTYIJTUMNRFLBIMJVHVBEJLDLHVNUXUHVHAIVNWVIVEXTTYIJTUNVITSTLV\n",
            "Hacking k #4: KLTSKZLOGMHKJYTMJQFAKHTLSWADIKQVKAMTTRGQFKSXHISTLMQEKAHLIUGUADIKCKGUMTWTGUGZHUMVUHUDWSSXHISTMUHSRSKU\n",
            "Hacking k #5: JKSRJYKNFLGJIXSLIPEZJGSKRVZCHJPUJZLSSQFPEJRWGHRSKLPDJZGKHTFTZCHJBJFTLSVSFTFYGTLUTGTCVRRWGHRSLTGRQRJT\n",
            "Hacking k #6: IJRQIXJMEKFIHWRKHODYIFRJQUYBGIOTIYKRRPEODIQVFGQRJKOCIYFJGSESYBGIAIESKRURESEXFSKTSFSBUQQVFGQRKSFQPQIS\n",
            "Hacking k #7: HIQPHWILDJEHGVQJGNCXHEQIPTXAFHNSHXJQQODNCHPUEFPQIJNBHXEIFRDRXAFHZHDRJQTQDRDWERJSRERATPPUEFPQJREPOPHR\n",
            "Hacking k #8: GHPOGVHKCIDGFUPIFMBWGDPHOSWZEGMRGWIPPNCMBGOTDEOPHIMAGWDHEQCQWZEGYGCQIPSPCQCVDQIRQDQZSOOTDEOPIQDONOGQ\n",
            "Hacking k #9: FGONFUGJBHCFETOHELAVFCOGNRVYDFLQFVHOOMBLAFNSCDNOGHLZFVCGDPBPVYDFXFBPHOROBPBUCPHQPCPYRNNSCDNOHPCNMNFP\n",
            "Hacking k #10: EFNMETFIAGBEDSNGDKZUEBNFMQUXCEKPEUGNNLAKZEMRBCMNFGKYEUBFCOAOUXCEWEAOGNQNAOATBOGPOBOXQMMRBCMNGOBMLMEO\n",
            "Hacking k #11: DEMLDSEHZFADCRMFCJYTDAMELPTWBDJODTFMMKZJYDLQABLMEFJXDTAEBNZNTWBDVDZNFMPMZNZSANFONANWPLLQABLMFNALKLDN\n",
            "Hacking k #12: CDLKCRDGYEZCBQLEBIXSCZLDKOSVACINCSELLJYIXCKPZAKLDEIWCSZDAMYMSVACUCYMELOLYMYRZMENMZMVOKKPZAKLEMZKJKCM\n",
            "Hacking k #13: BCKJBQCFXDYBAPKDAHWRBYKCJNRUZBHMBRDKKIXHWBJOYZJKCDHVBRYCZLXLRUZBTBXLDKNKXLXQYLDMLYLUNJJOYZJKDLYJIJBL\n",
            "Hacking k #14: ABJIAPBEWCXAZOJCZGVQAXJBIMQTYAGLAQCJJHWGVAINXYIJBCGUAQXBYKWKQTYASAWKCJMJWKWPXKCLKXKTMIINXYIJCKXIHIAK\n",
            "Hacking k #15: ZAIHZOADVBWZYNIBYFUPZWIAHLPSXZFKZPBIIGVFUZHMWXHIABFTZPWAXJVJPSXZRZVJBILIVJVOWJBKJWJSLHHMWXHIBJWHGHZJ\n",
            "Hacking k #16: YZHGYNZCUAVYXMHAXETOYVHZGKORWYEJYOAHHFUETYGLVWGHZAESYOVZWIUIORWYQYUIAHKHUIUNVIAJIVIRKGGLVWGHAIVGFGYI\n",
            "Hacking k #17: XYGFXMYBTZUXWLGZWDSNXUGYFJNQVXDIXNZGGETDSXFKUVFGYZDRXNUYVHTHNQVXPXTHZGJGTHTMUHZIHUHQJFFKUVFGZHUFEFXH\n",
            "Hacking k #18: WXFEWLXASYTWVKFYVCRMWTFXEIMPUWCHWMYFFDSCRWEJTUEFXYCQWMTXUGSGMPUWOWSGYFIFSGSLTGYHGTGPIEEJTUEFYGTEDEWG\n",
            "Hacking k #19: VWEDVKWZRXSVUJEXUBQLVSEWDHLOTVBGVLXEECRBQVDISTDEWXBPVLSWTFRFLOTVNVRFXEHERFRKSFXGFSFOHDDISTDEXFSDCDVF\n",
            "Hacking k #20: UVDCUJVYQWRUTIDWTAPKURDVCGKNSUAFUKWDDBQAPUCHRSCDVWAOUKRVSEQEKNSUMUQEWDGDQEQJREWFERENGCCHRSCDWERCBCUE\n",
            "Hacking k #21: TUCBTIUXPVQTSHCVSZOJTQCUBFJMRTZETJVCCAPZOTBGQRBCUVZNTJQURDPDJMRTLTPDVCFCPDPIQDVEDQDMFBBGQRBCVDQBABTD\n",
            "Hacking k #22: STBASHTWOUPSRGBURYNISPBTAEILQSYDSIUBBZOYNSAFPQABTUYMSIPTQCOCILQSKSOCUBEBOCOHPCUDCPCLEAAFPQABUCPAZASC\n",
            "Hacking k #23: RSAZRGSVNTORQFATQXMHROASZDHKPRXCRHTAAYNXMRZEOPZASTXLRHOSPBNBHKPRJRNBTADANBNGOBTCBOBKDZZEOPZATBOZYZRB\n",
            "Hacking k #24: QRZYQFRUMSNQPEZSPWLGQNZRYCGJOQWBQGSZZXMWLQYDNOYZRSWKQGNROAMAGJOQIQMASZCZMAMFNASBANAJCYYDNOYZSANYXYQA\n",
            "Hacking k #25: PQYXPEQTLRMPODYROVKFPMYQXBFINPVAPFRYYWLVKPXCMNXYQRVJPFMQNZLZFINPHPLZRYBYLZLEMZRAZMZIBXXCMNXYRZMXWXPZ\n"
          ]
        }
      ]
    },
    {
      "cell_type": "markdown",
      "metadata": {
        "id": "B8cXu-82Etgu"
      },
      "source": [
        "### **Output (using Shift key of value 22)**\n",
        "\n",
        "STBASHTWOUPSRGBURYNISPBTAEILQSYDSIUBBZOYNSAFPQABTUYMSIPTQCOCILQSKSOCUBEBOCOHPCUDCPCLEAAFPQABUCPAZASC"
      ]
    },
    {
      "cell_type": "markdown",
      "metadata": {
        "id": "3riUDkJdE9X7"
      },
      "source": [
        "## **5. Playfair Cipher Decryption with Alphabet Key  = ABCDEFGHIKLMNOPQRSTUVWXYZ (Without J)** "
      ]
    },
    {
      "cell_type": "code",
      "metadata": {
        "colab": {
          "base_uri": "https://localhost:8080/"
        },
        "id": "JuqDt8BwFi4P",
        "outputId": "bd142518-b885-4c46-b958-1d000f8d4464"
      },
      "source": [
        "from pycipher import Playfair\n",
        "print(Playfair('ABCDEFGHIKLMNOPQRSTUVWXYZ').decipher('STBASHTWOUPSRGBURYNISPBTAEILQSYDSIUBBZOYNSAFPQABTUYMSIPTQCOCILQSKSOCUBEBOCOHPCUDCPCLEAAFPQABUCPAZASC'))"
      ],
      "execution_count": 6,
      "outputs": [
        {
          "output_type": "stream",
          "name": "stdout",
          "text": [
            "RSAENCRYPTNUMBERTWOHUNDREDFOURTYTHREEWITHNVALUEASTWOTHOUSANDFOURHUNDREDANDNINETEENANDEVALUEASELEVENX\n"
          ]
        }
      ]
    },
    {
      "cell_type": "markdown",
      "metadata": {
        "id": "6bTMipQ2Fu_k"
      },
      "source": [
        "### **Formatted Output**\n",
        "\n",
        "RSA ENCRYPT NUMBER TWO HUNDRED FOURTY THREE WITH N VALUE AS TWO THOUSAND FOUR HUNDRED AND NINETEEN AND E VALUE AS ELEVEN X"
      ]
    },
    {
      "cell_type": "markdown",
      "metadata": {
        "id": "CdsxOJECGp3V"
      },
      "source": [
        "## **6. RSA Cipher Decryption**"
      ]
    },
    {
      "cell_type": "code",
      "metadata": {
        "colab": {
          "base_uri": "https://localhost:8080/"
        },
        "id": "2A2zp3DZGfzE",
        "outputId": "e6c995d9-714a-41f6-f056-05eed320b731"
      },
      "source": [
        "import math\n",
        "\n",
        "c = 243\n",
        "d = 11\n",
        "N = 2419\n",
        "\n",
        "print('Given from the previous message \\n')\n",
        "print(\"N               : \", N)\n",
        "print(\"C (Cipher Text) : \", c)\n",
        "print(\"d (Key)         : \", d)\n",
        "print('\\n')\n",
        "message = pow(c, d, N)\n",
        "print(\"Decrypted Message (using the formula m = C^d(mod N)): \", message)"
      ],
      "execution_count": 7,
      "outputs": [
        {
          "output_type": "stream",
          "name": "stdout",
          "text": [
            "Given from the previous message \n",
            "\n",
            "N               :  2419\n",
            "C (Cipher Text) :  243\n",
            "d (Key)         :  11\n",
            "\n",
            "\n",
            "Decrypted Message (using the formula m = C^d(mod N)):  1982\n"
          ]
        }
      ]
    },
    {
      "cell_type": "markdown",
      "metadata": {
        "id": "XK1CZAu3G741"
      },
      "source": [
        "### **Output - 1982**"
      ]
    },
    {
      "cell_type": "markdown",
      "metadata": {
        "id": "4RDXxobFHGTD"
      },
      "source": [
        "---"
      ]
    },
    {
      "cell_type": "markdown",
      "metadata": {
        "id": "OnkzsL1_HfGJ"
      },
      "source": [
        "## **In the Text Document**\n",
        "\n",
        "### After entering 1982 as the password for the dontopen.zip, there was a dontsee.txt document, which had another encrypted message which had to be decrypted."
      ]
    },
    {
      "cell_type": "markdown",
      "metadata": {
        "id": "ijEYF0GvJC34"
      },
      "source": [
        "## **7. Caesar Cipher Decryption**"
      ]
    },
    {
      "cell_type": "code",
      "metadata": {
        "colab": {
          "base_uri": "https://localhost:8080/"
        },
        "id": "3BK0R0EiI0dG",
        "outputId": "e4188ffe-cc9b-4c1a-87da-54980b02d3d0"
      },
      "source": [
        "encrypted_message = 'TM, DTZ KTZSI RJ. HTSLWFYX. YMNX NX YMJ JSILTFQ. TW NX NY?' \n",
        "LETTERS = 'ABCDEFGHIJKLMNOPQRSTUVWXYZ'  \n",
        "\n",
        "for key in range(len(LETTERS)):  \n",
        "        translated = ''  \n",
        "   \n",
        "        for symbol in encrypted_message: \n",
        "                if symbol in LETTERS:  \n",
        "                        n = LETTERS.find(symbol)  \n",
        "                        n = n - key  \n",
        "                        if n < 0:  \n",
        "                                n = n + len(LETTERS)  \n",
        "                        translated = translated + LETTERS[n]  \n",
        "         \n",
        "        \n",
        "                else:  \n",
        "                        translated = translated + symbol  \n",
        "      \n",
        "        print('Hacking k #%s: %s' % (key, translated))"
      ],
      "execution_count": 8,
      "outputs": [
        {
          "output_type": "stream",
          "name": "stdout",
          "text": [
            "Hacking k #0: TM, DTZ KTZSI RJ. HTSLWFYX. YMNX NX YMJ JSILTFQ. TW NX NY?\n",
            "Hacking k #1: SL, CSY JSYRH QI. GSRKVEXW. XLMW MW XLI IRHKSEP. SV MW MX?\n",
            "Hacking k #2: RK, BRX IRXQG PH. FRQJUDWV. WKLV LV WKH HQGJRDO. RU LV LW?\n",
            "Hacking k #3: QJ, AQW HQWPF OG. EQPITCVU. VJKU KU VJG GPFIQCN. QT KU KV?\n",
            "Hacking k #4: PI, ZPV GPVOE NF. DPOHSBUT. UIJT JT UIF FOEHPBM. PS JT JU?\n",
            "Hacking k #5: OH, YOU FOUND ME. CONGRATS. THIS IS THE ENDGOAL. OR IS IT?\n",
            "Hacking k #6: NG, XNT ENTMC LD. BNMFQZSR. SGHR HR SGD DMCFNZK. NQ HR HS?\n",
            "Hacking k #7: MF, WMS DMSLB KC. AMLEPYRQ. RFGQ GQ RFC CLBEMYJ. MP GQ GR?\n",
            "Hacking k #8: LE, VLR CLRKA JB. ZLKDOXQP. QEFP FP QEB BKADLXI. LO FP FQ?\n",
            "Hacking k #9: KD, UKQ BKQJZ IA. YKJCNWPO. PDEO EO PDA AJZCKWH. KN EO EP?\n",
            "Hacking k #10: JC, TJP AJPIY HZ. XJIBMVON. OCDN DN OCZ ZIYBJVG. JM DN DO?\n",
            "Hacking k #11: IB, SIO ZIOHX GY. WIHALUNM. NBCM CM NBY YHXAIUF. IL CM CN?\n",
            "Hacking k #12: HA, RHN YHNGW FX. VHGZKTML. MABL BL MAX XGWZHTE. HK BL BM?\n",
            "Hacking k #13: GZ, QGM XGMFV EW. UGFYJSLK. LZAK AK LZW WFVYGSD. GJ AK AL?\n",
            "Hacking k #14: FY, PFL WFLEU DV. TFEXIRKJ. KYZJ ZJ KYV VEUXFRC. FI ZJ ZK?\n",
            "Hacking k #15: EX, OEK VEKDT CU. SEDWHQJI. JXYI YI JXU UDTWEQB. EH YI YJ?\n",
            "Hacking k #16: DW, NDJ UDJCS BT. RDCVGPIH. IWXH XH IWT TCSVDPA. DG XH XI?\n",
            "Hacking k #17: CV, MCI TCIBR AS. QCBUFOHG. HVWG WG HVS SBRUCOZ. CF WG WH?\n",
            "Hacking k #18: BU, LBH SBHAQ ZR. PBATENGF. GUVF VF GUR RAQTBNY. BE VF VG?\n",
            "Hacking k #19: AT, KAG RAGZP YQ. OAZSDMFE. FTUE UE FTQ QZPSAMX. AD UE UF?\n",
            "Hacking k #20: ZS, JZF QZFYO XP. NZYRCLED. ESTD TD ESP PYORZLW. ZC TD TE?\n",
            "Hacking k #21: YR, IYE PYEXN WO. MYXQBKDC. DRSC SC DRO OXNQYKV. YB SC SD?\n",
            "Hacking k #22: XQ, HXD OXDWM VN. LXWPAJCB. CQRB RB CQN NWMPXJU. XA RB RC?\n",
            "Hacking k #23: WP, GWC NWCVL UM. KWVOZIBA. BPQA QA BPM MVLOWIT. WZ QA QB?\n",
            "Hacking k #24: VO, FVB MVBUK TL. JVUNYHAZ. AOPZ PZ AOL LUKNVHS. VY PZ PA?\n",
            "Hacking k #25: UN, EUA LUATJ SK. IUTMXGZY. ZNOY OY ZNK KTJMUGR. UX OY OZ?\n"
          ]
        }
      ]
    },
    {
      "cell_type": "markdown",
      "metadata": {
        "id": "u-o4dBILJTCK"
      },
      "source": [
        "### **Output (using Shift key of value 5)**\n",
        "\n",
        "OH, YOU FOUND ME. CONGRATS. THIS IS THE ENDGOAL. OR IS IT?"
      ]
    }
  ]
}